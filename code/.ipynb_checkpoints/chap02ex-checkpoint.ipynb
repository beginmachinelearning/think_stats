{
 "cells": [
  {
   "cell_type": "markdown",
   "metadata": {},
   "source": [
    "# Examples and Exercises from Think Stats, 2nd Edition\n",
    "\n",
    "http://thinkstats2.com\n",
    "\n",
    "Copyright 2016 Allen B. Downey\n",
    "\n",
    "MIT License: https://opensource.org/licenses/MIT\n"
   ]
  },
  {
   "cell_type": "code",
   "execution_count": 1,
   "metadata": {},
   "outputs": [],
   "source": [
    "from __future__ import print_function, division\n",
    "\n",
    "%matplotlib inline\n",
    "\n",
    "import numpy as np\n",
    "\n",
    "import nsfg\n",
    "import first"
   ]
  },
  {
   "cell_type": "markdown",
   "metadata": {},
   "source": [
    "Given a list of values, there are several ways to count the frequency of each value."
   ]
  },
  {
   "cell_type": "code",
   "execution_count": 2,
   "metadata": {},
   "outputs": [],
   "source": [
    "t = [1, 2, 2, 3, 5]"
   ]
  },
  {
   "cell_type": "markdown",
   "metadata": {},
   "source": [
    "You can use a Python dictionary:"
   ]
  },
  {
   "cell_type": "code",
   "execution_count": 3,
   "metadata": {},
   "outputs": [
    {
     "data": {
      "text/plain": [
       "{1: 1, 2: 2, 3: 1, 5: 1}"
      ]
     },
     "execution_count": 3,
     "metadata": {},
     "output_type": "execute_result"
    }
   ],
   "source": [
    "hist = {}\n",
    "for x in t:\n",
    "    hist[x] = hist.get(x, 0) + 1\n",
    "    \n",
    "hist"
   ]
  },
  {
   "cell_type": "markdown",
   "metadata": {},
   "source": [
    "You can use a `Counter` (which is a dictionary with additional methods):"
   ]
  },
  {
   "cell_type": "code",
   "execution_count": 4,
   "metadata": {},
   "outputs": [
    {
     "data": {
      "text/plain": [
       "Counter({1: 1, 2: 2, 3: 1, 5: 1})"
      ]
     },
     "execution_count": 4,
     "metadata": {},
     "output_type": "execute_result"
    }
   ],
   "source": [
    "from collections import Counter\n",
    "counter = Counter(t)\n",
    "counter"
   ]
  },
  {
   "cell_type": "markdown",
   "metadata": {},
   "source": [
    "Or you can use the `Hist` object provided by `thinkstats2`:"
   ]
  },
  {
   "cell_type": "code",
   "execution_count": 5,
   "metadata": {},
   "outputs": [
    {
     "data": {
      "text/plain": [
       "Hist({1: 1, 2: 2, 3: 1, 5: 1})"
      ]
     },
     "execution_count": 5,
     "metadata": {},
     "output_type": "execute_result"
    }
   ],
   "source": [
    "import thinkstats2\n",
    "hist = thinkstats2.Hist([1, 2, 2, 3, 5])\n",
    "hist"
   ]
  },
  {
   "cell_type": "markdown",
   "metadata": {},
   "source": [
    "`Hist` provides `Freq`, which looks up the frequency of a value."
   ]
  },
  {
   "cell_type": "code",
   "execution_count": 6,
   "metadata": {},
   "outputs": [
    {
     "data": {
      "text/plain": [
       "2"
      ]
     },
     "execution_count": 6,
     "metadata": {},
     "output_type": "execute_result"
    }
   ],
   "source": [
    "hist.Freq(2)"
   ]
  },
  {
   "cell_type": "markdown",
   "metadata": {},
   "source": [
    "You can also use the bracket operator, which does the same thing."
   ]
  },
  {
   "cell_type": "code",
   "execution_count": 7,
   "metadata": {},
   "outputs": [
    {
     "data": {
      "text/plain": [
       "2"
      ]
     },
     "execution_count": 7,
     "metadata": {},
     "output_type": "execute_result"
    }
   ],
   "source": [
    "hist[2]"
   ]
  },
  {
   "cell_type": "markdown",
   "metadata": {},
   "source": [
    "If the value does not appear, it has frequency 0."
   ]
  },
  {
   "cell_type": "code",
   "execution_count": 8,
   "metadata": {},
   "outputs": [
    {
     "data": {
      "text/plain": [
       "0"
      ]
     },
     "execution_count": 8,
     "metadata": {},
     "output_type": "execute_result"
    }
   ],
   "source": [
    "hist[4]"
   ]
  },
  {
   "cell_type": "markdown",
   "metadata": {},
   "source": [
    "The `Values` method returns the values:"
   ]
  },
  {
   "cell_type": "code",
   "execution_count": 9,
   "metadata": {},
   "outputs": [
    {
     "data": {
      "text/plain": [
       "dict_keys([1, 2, 3, 5])"
      ]
     },
     "execution_count": 9,
     "metadata": {},
     "output_type": "execute_result"
    }
   ],
   "source": [
    "hist.Values()"
   ]
  },
  {
   "cell_type": "markdown",
   "metadata": {},
   "source": [
    "So you can iterate the values and their frequencies like this:"
   ]
  },
  {
   "cell_type": "code",
   "execution_count": 10,
   "metadata": {},
   "outputs": [
    {
     "name": "stdout",
     "output_type": "stream",
     "text": [
      "1 1\n",
      "2 2\n",
      "3 1\n",
      "5 1\n"
     ]
    }
   ],
   "source": [
    "for val in sorted(hist.Values()):\n",
    "    print(val, hist[val])"
   ]
  },
  {
   "cell_type": "markdown",
   "metadata": {},
   "source": [
    "Or you can use the `Items` method:"
   ]
  },
  {
   "cell_type": "code",
   "execution_count": 11,
   "metadata": {},
   "outputs": [
    {
     "name": "stdout",
     "output_type": "stream",
     "text": [
      "1 1\n",
      "2 2\n",
      "3 1\n",
      "5 1\n"
     ]
    }
   ],
   "source": [
    "for val, freq in hist.Items():\n",
    "     print(val, freq)"
   ]
  },
  {
   "cell_type": "markdown",
   "metadata": {},
   "source": [
    "`thinkplot` is a wrapper for `matplotlib` that provides functions that work with the objects in `thinkstats2`.\n",
    "\n",
    "For example `Hist` plots the values and their frequencies as a bar graph.\n",
    "\n",
    "`Config` takes parameters that label the x and y axes, among other things."
   ]
  },
  {
   "cell_type": "code",
   "execution_count": 12,
   "metadata": {},
   "outputs": [
    {
     "name": "stderr",
     "output_type": "stream",
     "text": [
      "No handles with labels found to put in legend.\n"
     ]
    },
    {
     "data": {
      "image/png": "[encoded data removed]",
      "text/plain": [
       "<Figure size 432x288 with 1 Axes>"
      ]
     },
     "metadata": {},
     "output_type": "display_data"
    }
   ],
   "source": [
    "import thinkplot\n",
    "thinkplot.Hist(hist)\n",
    "thinkplot.Config(xlabel='value', ylabel='frequency')"
   ]
  },
  {
   "cell_type": "markdown",
   "metadata": {},
   "source": [
    "As an example, I'll replicate some of the figures from the book.\n",
    "\n",
    "First, I'll load the data from the pregnancy file and select the records for live births."
   ]
  },
  {
   "cell_type": "code",
   "execution_count": 13,
   "metadata": {},
   "outputs": [],
   "source": [
    "preg = nsfg.ReadFemPreg()\n",
    "live = preg[preg.outcome == 1]"
   ]
  },
  {
   "cell_type": "markdown",
   "metadata": {},
   "source": [
    "Here's the histogram of birth weights in pounds.  Notice that `Hist` works with anything iterable, including a Pandas Series.  The `label` attribute appears in the legend when you plot the `Hist`. "
   ]
  },
  {
   "cell_type": "code",
   "execution_count": 14,
   "metadata": {},
   "outputs": [
    {
     "data": {
      "image/png": "[encoded data removed]",
      "text/plain": [
       "<Figure size 432x288 with 1 Axes>"
      ]
     },
     "metadata": {},
     "output_type": "display_data"
    }
   ],
   "source": [
    "hist = thinkstats2.Hist(live.birthwgt_lb, label='birthwgt_lb')\n",
    "thinkplot.Hist(hist)\n",
    "thinkplot.Config(xlabel='Birth weight (pounds)', ylabel='Count')"
   ]
  },
  {
   "cell_type": "markdown",
   "metadata": {},
   "source": [
    "Before plotting the ages, I'll apply `floor` to round down:"
   ]
  },
  {
   "cell_type": "code",
   "execution_count": 15,
   "metadata": {},
   "outputs": [],
   "source": [
    "ages = np.floor(live.agepreg)"
   ]
  },
  {
   "cell_type": "code",
   "execution_count": 16,
   "metadata": {},
   "outputs": [
    {
     "data": {
      "image/png": "[encoded data removed]",
      "text/plain": [
       "<Figure size 432x288 with 1 Axes>"
      ]
     },
     "metadata": {},
     "output_type": "display_data"
    }
   ],
   "source": [
    "hist = thinkstats2.Hist(ages, label='agepreg')\n",
    "thinkplot.Hist(hist)\n",
    "thinkplot.Config(xlabel='years', ylabel='Count')"
   ]
  },
  {
   "cell_type": "markdown",
   "metadata": {},
   "source": [
    "As an exercise, plot the histogram of pregnancy lengths (column `prglngth`)."
   ]
  },
  {
   "cell_type": "code",
   "execution_count": 18,
   "metadata": {},
   "outputs": [
    {
     "data": {
      "text/plain": [
       "39    4693\n",
       "40    1116\n",
       "38     607\n",
       "41     587\n",
       "37     455\n",
       "42     328\n",
       "36     321\n",
       "35     311\n",
       "43     148\n",
       "30     138\n",
       "32     115\n",
       "34      60\n",
       "33      49\n",
       "44      46\n",
       "26      35\n",
       "28      32\n",
       "31      27\n",
       "29      21\n",
       "24      13\n",
       "45      10\n",
       "22       7\n",
       "48       7\n",
       "27       3\n",
       "25       3\n",
       "17       2\n",
       "50       2\n",
       "21       2\n",
       "9        1\n",
       "47       1\n",
       "18       1\n",
       "19       1\n",
       "4        1\n",
       "20       1\n",
       "13       1\n",
       "46       1\n",
       "23       1\n",
       "0        1\n",
       "Name: prglngth, dtype: int64"
      ]
     },
     "execution_count": 18,
     "metadata": {},
     "output_type": "execute_result"
    }
   ],
   "source": [
    "live.prglngth.value_counts()"
   ]
  },
  {
   "cell_type": "code",
   "execution_count": 17,
   "metadata": {},
   "outputs": [
    {
     "data": {
      "image/png": "[encoded data removed]",
      "text/plain": [
       "<Figure size 432x288 with 1 Axes>"
      ]
     },
     "metadata": {},
     "output_type": "display_data"
    }
   ],
   "source": [
    "hist=thinkstats2.Hist(live.prglngth)\n",
    "thinkplot.Hist(hist)"
   ]
  },
  {
   "cell_type": "markdown",
   "metadata": {},
   "source": [
    "`Hist` provides smallest, which select the lowest values and their frequencies."
   ]
  },
  {
   "cell_type": "code",
   "execution_count": 18,
   "metadata": {},
   "outputs": [
    {
     "name": "stdout",
     "output_type": "stream",
     "text": [
      "10.0 2\n",
      "11.0 1\n",
      "12.0 1\n",
      "13.0 14\n",
      "14.0 43\n",
      "15.0 128\n",
      "16.0 242\n",
      "17.0 398\n",
      "18.0 546\n",
      "19.0 559\n"
     ]
    }
   ],
   "source": [
    "for weeks, freq in hist.Smallest(10):\n",
    "    print(weeks, freq)"
   ]
  },
  {
   "cell_type": "markdown",
   "metadata": {},
   "source": [
    "Use `Largest` to display the longest pregnancy lengths."
   ]
  },
  {
   "cell_type": "code",
   "execution_count": 19,
   "metadata": {},
   "outputs": [],
   "source": [
    "# Solution goes here"
   ]
  },
  {
   "cell_type": "markdown",
   "metadata": {},
   "source": [
    "From live births, we can select first babies and others using `birthord`, then compute histograms of pregnancy length for the two groups."
   ]
  },
  {
   "cell_type": "code",
   "execution_count": 24,
   "metadata": {},
   "outputs": [],
   "source": [
    "firsts = live[live.birthord == 1]\n",
    "others = live[live.birthord != 1]\n",
    "\n",
    "first_hist = thinkstats2.Hist(firsts.prglngth, label='first')\n",
    "other_hist = thinkstats2.Hist(others.prglngth, label='other')"
   ]
  },
  {
   "cell_type": "code",
   "execution_count": 28,
   "metadata": {},
   "outputs": [
    {
     "data": {
      "text/plain": [
       "(38.60095173351461, 2.7919014146686947, 7.794713509229059)"
      ]
     },
     "execution_count": 28,
     "metadata": {},
     "output_type": "execute_result"
    }
   ],
   "source": [
    "firsts.prglngth.mean(), firsts.prglngth.std(),  firsts.prglngth.var()"
   ]
  },
  {
   "cell_type": "code",
   "execution_count": 29,
   "metadata": {},
   "outputs": [
    {
     "data": {
      "text/plain": [
       "(38.56055968517709, 2.702343810070593, 7.302662067826851)"
      ]
     },
     "execution_count": 29,
     "metadata": {},
     "output_type": "execute_result"
    }
   ],
   "source": [
    "live.prglngth.mean(), live.prglngth.std(),  live.prglngth.var()"
   ]
  },
  {
   "cell_type": "markdown",
   "metadata": {},
   "source": [
    "We can use `width` and `align` to plot two histograms side-by-side."
   ]
  },
  {
   "cell_type": "code",
   "execution_count": 21,
   "metadata": {},
   "outputs": [
    {
     "data": {
      "image/png": "[encoded data removed]",
      "text/plain": [
       "<matplotlib.figure.Figure at 0x7f81841b1610>"
      ]
     },
     "metadata": {},
     "output_type": "display_data"
    }
   ],
   "source": [
    "width = 0.45\n",
    "thinkplot.PrePlot(2)\n",
    "thinkplot.Hist(first_hist, align='right', width=width)\n",
    "thinkplot.Hist(other_hist, align='left', width=width)\n",
    "thinkplot.Config(xlabel='weeks', ylabel='Count', xlim=[27, 46])"
   ]
  },
  {
   "cell_type": "markdown",
   "metadata": {},
   "source": [
    "`Series` provides methods to compute summary statistics:"
   ]
  },
  {
   "cell_type": "code",
   "execution_count": 19,
   "metadata": {},
   "outputs": [],
   "source": [
    "mean = live.prglngth.mean()\n",
    "var = live.prglngth.var()\n",
    "std = live.prglngth.std()"
   ]
  },
  {
   "cell_type": "markdown",
   "metadata": {},
   "source": [
    "Here are the mean and standard deviation:"
   ]
  },
  {
   "cell_type": "code",
   "execution_count": 21,
   "metadata": {},
   "outputs": [
    {
     "data": {
      "text/plain": [
       "(38.56055968517709, 2.702343810070593, 7.302662067826851)"
      ]
     },
     "execution_count": 21,
     "metadata": {},
     "output_type": "execute_result"
    }
   ],
   "source": [
    "mean, std, var"
   ]
  },
  {
   "cell_type": "markdown",
   "metadata": {},
   "source": [
    "As an exercise, confirm that `std` is the square root of `var`:"
   ]
  },
  {
   "cell_type": "code",
   "execution_count": 22,
   "metadata": {},
   "outputs": [
    {
     "data": {
      "text/plain": [
       "2.702343810070593"
      ]
     },
     "execution_count": 22,
     "metadata": {},
     "output_type": "execute_result"
    }
   ],
   "source": [
    "import math\n",
    "math.sqrt(var)"
   ]
  },
  {
   "cell_type": "markdown",
   "metadata": {},
   "source": [
    "Here's are the mean pregnancy lengths for first babies and others:"
   ]
  },
  {
   "cell_type": "code",
   "execution_count": 25,
   "metadata": {},
   "outputs": [
    {
     "data": {
      "text/plain": [
       "(38.60095173351461, 38.52291446673706)"
      ]
     },
     "execution_count": 25,
     "metadata": {},
     "output_type": "execute_result"
    }
   ],
   "source": [
    "firsts.prglngth.mean(), others.prglngth.mean()"
   ]
  },
  {
   "cell_type": "markdown",
   "metadata": {},
   "source": [
    "And here's the difference (in weeks):"
   ]
  },
  {
   "cell_type": "code",
   "execution_count": 26,
   "metadata": {},
   "outputs": [
    {
     "data": {
      "text/plain": [
       "0.07803726677754952"
      ]
     },
     "execution_count": 26,
     "metadata": {},
     "output_type": "execute_result"
    }
   ],
   "source": [
    "firsts.prglngth.mean() - others.prglngth.mean()"
   ]
  },
  {
   "cell_type": "markdown",
   "metadata": {},
   "source": [
    "This functon computes the Cohen effect size, which is the difference in means expressed in number of standard deviations:"
   ]
  },
  {
   "cell_type": "code",
   "execution_count": 31,
   "metadata": {},
   "outputs": [],
   "source": [
    "def CohenEffectSize(group1, group2):\n",
    "    \"\"\"Computes Cohen's effect size for two groups.\n",
    "    \n",
    "    group1: Series or DataFrame\n",
    "    group2: Series or DataFrame\n",
    "    \n",
    "    returns: float if the arguments are Series;\n",
    "             Series if the arguments are DataFrames\n",
    "    \"\"\"\n",
    "    diff = group1.mean() - group2.mean()\n",
    "\n",
    "    var1 = group1.var()\n",
    "    var2 = group2.var()\n",
    "    n1, n2 = len(group1), len(group2)\n",
    "\n",
    "    pooled_var = (n1 * var1 + n2 * var2) / (n1 + n2)\n",
    "    d = diff / np.sqrt(pooled_var)\n",
    "    return d"
   ]
  },
  {
   "cell_type": "markdown",
   "metadata": {},
   "source": [
    "Compute the Cohen effect size for the difference in pregnancy length for first babies and others."
   ]
  },
  {
   "cell_type": "code",
   "execution_count": 36,
   "metadata": {},
   "outputs": [],
   "source": [
    "k=CohenEffectSize(firsts.prglngth, others.prglngth)\n"
   ]
  },
  {
   "cell_type": "markdown",
   "metadata": {
    "collapsed": true
   },
   "source": [
    "## Exercises"
   ]
  },
  {
   "cell_type": "code",
   "execution_count": 37,
   "metadata": {},
   "outputs": [
    {
     "data": {
      "text/plain": [
       "0.028879044654449883"
      ]
     },
     "execution_count": 37,
     "metadata": {},
     "output_type": "execute_result"
    }
   ],
   "source": [
    "k"
   ]
  },
  {
   "cell_type": "markdown",
   "metadata": {},
   "source": [
    "Using the variable `totalwgt_lb`, investigate whether first babies are lighter or heavier than others. \n",
    "\n",
    "Compute Cohen’s effect size to quantify the difference between the groups.  How does it compare to the difference in pregnancy length?"
   ]
  },
  {
   "cell_type": "code",
   "execution_count": 39,
   "metadata": {},
   "outputs": [
    {
     "data": {
      "text/plain": [
       "(7.201094430437772, 7.325855614973262)"
      ]
     },
     "execution_count": 39,
     "metadata": {},
     "output_type": "execute_result"
    }
   ],
   "source": [
    "firsts.totalwgt_lb.mean(), others.totalwgt_lb.mean()"
   ]
  },
  {
   "cell_type": "code",
   "execution_count": 40,
   "metadata": {},
   "outputs": [
    {
     "data": {
      "text/plain": [
       "-0.088672927072602"
      ]
     },
     "execution_count": 40,
     "metadata": {},
     "output_type": "execute_result"
    }
   ],
   "source": [
    "CohenEffectSize(firsts.totalwgt_lb, others.totalwgt_lb)"
   ]
  },
  {
   "cell_type": "markdown",
   "metadata": {},
   "source": [
    "For the next few exercises, we'll load the respondent file:"
   ]
  },
  {
   "cell_type": "code",
   "execution_count": 42,
   "metadata": {},
   "outputs": [],
   "source": [
    "resp = nsfg.ReadFemResp()"
   ]
  },
  {
   "cell_type": "markdown",
   "metadata": {},
   "source": [
    "Make a histogram of <tt>totincr</tt> the total income for the respondent's family.  To interpret the codes see the [codebook](http://www.icpsr.umich.edu/nsfg6/Controller?displayPage=labelDetails&fileCode=FEM&section=R&subSec=7876&srtLabel=607543)."
   ]
  },
  {
   "cell_type": "code",
   "execution_count": 44,
   "metadata": {},
   "outputs": [
    {
     "data": {
      "image/png": "[encoded data removed]",
      "text/plain": [
       "<Figure size 432x288 with 1 Axes>"
      ]
     },
     "metadata": {},
     "output_type": "display_data"
    }
   ],
   "source": [
    "totincr=thinkstats2.Hist(resp.totincr)\n",
    "thinkplot.Hist(totincr)"
   ]
  },
  {
   "cell_type": "markdown",
   "metadata": {},
   "source": [
    "Make a histogram of <tt>age_r</tt>, the respondent's age at the time of interview."
   ]
  },
  {
   "cell_type": "code",
   "execution_count": 45,
   "metadata": {},
   "outputs": [
    {
     "data": {
      "image/png": "[encoded data removed]",
      "text/plain": [
       "<Figure size 432x288 with 1 Axes>"
      ]
     },
     "metadata": {},
     "output_type": "display_data"
    }
   ],
   "source": [
    "age_r=thinkstats2.Hist(resp.age_r)\n",
    "thinkplot.Hist(age_r)"
   ]
  },
  {
   "cell_type": "markdown",
   "metadata": {},
   "source": [
    "Make a histogram of <tt>numfmhh</tt>, the number of people in the respondent's household."
   ]
  },
  {
   "cell_type": "code",
   "execution_count": 47,
   "metadata": {},
   "outputs": [
    {
     "data": {
      "image/png": "[encoded data removed]",
      "text/plain": [
       "<Figure size 432x288 with 1 Axes>"
      ]
     },
     "metadata": {},
     "output_type": "display_data"
    }
   ],
   "source": [
    "numfmhh=thinkstats2.Hist(resp.numfmhh)\n",
    "thinkplot.Hist(numfmhh)"
   ]
  },
  {
   "cell_type": "markdown",
   "metadata": {},
   "source": [
    "Make a histogram of <tt>parity</tt>, the number of children borne by the respondent.  How would you describe this distribution?"
   ]
  },
  {
   "cell_type": "code",
   "execution_count": 48,
   "metadata": {},
   "outputs": [
    {
     "data": {
      "image/png": "[encoded data removed]",
      "text/plain": [
       "<Figure size 432x288 with 1 Axes>"
      ]
     },
     "metadata": {},
     "output_type": "display_data"
    }
   ],
   "source": [
    "numfmhh=thinkstats2.Hist(resp.parity)\n",
    "thinkplot.Hist(numfmhh)"
   ]
  },
  {
   "cell_type": "markdown",
   "metadata": {},
   "source": [
    "Use Hist.Largest to find the largest values of <tt>parity</tt>."
   ]
  },
  {
   "cell_type": "code",
   "execution_count": 49,
   "metadata": {},
   "outputs": [
    {
     "data": {
      "text/plain": [
       "<bound method _DictWrapper.Largest of Hist({0: 3230, 2: 1603, 1: 1519, 3: 828, 4: 309, 5: 95, 6: 29, 7: 15, 8: 8, 10: 3, 9: 2, 22: 1, 16: 1})>"
      ]
     },
     "execution_count": 49,
     "metadata": {},
     "output_type": "execute_result"
    }
   ],
   "source": [
    "numfmhh.Largest"
   ]
  },
  {
   "cell_type": "markdown",
   "metadata": {},
   "source": [
    "Let's investigate whether people with higher income have higher parity.  Keep in mind that in this study, we are observing different people at different times during their lives, so this data is not the best choice for answering this question.  But for now let's take it at face value.\n",
    "\n",
    "Use <tt>totincr</tt> to select the respondents with the highest income (level 14).  Plot the histogram of <tt>parity</tt> for just the high income respondents."
   ]
  },
  {
   "cell_type": "code",
   "execution_count": 50,
   "metadata": {},
   "outputs": [
    {
     "data": {
      "text/plain": [
       "<bound method _DictWrapper.Largest of Hist({14: 1160, 12: 658, 11: 647, 13: 623, 9: 607, 8: 606, 7: 583, 6: 559, 10: 468, 5: 445, 4: 421, 2: 301, 1: 299, 3: 266})>"
      ]
     },
     "execution_count": 50,
     "metadata": {},
     "output_type": "execute_result"
    }
   ],
   "source": [
    "totincr.Largest"
   ]
  },
  {
   "cell_type": "markdown",
   "metadata": {},
   "source": [
    "Find the largest parities for high income respondents."
   ]
  },
  {
   "cell_type": "code",
   "execution_count": 52,
   "metadata": {},
   "outputs": [
    {
     "data": {
      "image/png": "[encoded data removed]",
      "text/plain": [
       "<Figure size 432x288 with 1 Axes>"
      ]
     },
     "metadata": {},
     "output_type": "display_data"
    }
   ],
   "source": [
    "te=thinkstats2.Hist(resp.parity[resp.totincr==14])\n",
    "thinkplot.Hist(te)"
   ]
  },
  {
   "cell_type": "markdown",
   "metadata": {},
   "source": [
    "Compare the mean <tt>parity</tt> for high income respondents and others."
   ]
  },
  {
   "cell_type": "code",
   "execution_count": 56,
   "metadata": {},
   "outputs": [
    {
     "data": {
      "text/plain": [
       "-0.1251185531466061"
      ]
     },
     "execution_count": 56,
     "metadata": {},
     "output_type": "execute_result"
    }
   ],
   "source": [
    "rich=resp[resp.totincr==14]\n",
    "notrich=resp[resp.totincr!=14]\n",
    "CohenEffectSize(rich.parity, notrich.parity)"
   ]
  },
  {
   "cell_type": "markdown",
   "metadata": {},
   "source": [
    "Compute the Cohen effect size for this difference.  How does it compare with the difference in pregnancy length for first babies and others?"
   ]
  },
  {
   "cell_type": "code",
   "execution_count": 40,
   "metadata": {},
   "outputs": [],
   "source": [
    "# Solution goes here"
   ]
  },
  {
   "cell_type": "code",
   "execution_count": 57,
   "metadata": {},
   "outputs": [
    {
     "data": {
      "text/html": [
       "<div>\n",
       "<style scoped>\n",
       "    .dataframe tbody tr th:only-of-type {\n",
       "        vertical-align: middle;\n",
       "    }\n",
       "\n",
       "    .dataframe tbody tr th {\n",
       "        vertical-align: top;\n",
       "    }\n",
       "\n",
       "    .dataframe thead th {\n",
       "        text-align: right;\n",
       "    }\n",
       "</style>\n",
       "<table border=\"1\" class=\"dataframe\">\n",
       "  <thead>\n",
       "    <tr style=\"text-align: right;\">\n",
       "      <th></th>\n",
       "      <th>caseid</th>\n",
       "      <th>rscrinf</th>\n",
       "      <th>rdormres</th>\n",
       "      <th>rostscrn</th>\n",
       "      <th>rscreenhisp</th>\n",
       "      <th>rscreenrace</th>\n",
       "      <th>age_a</th>\n",
       "      <th>age_r</th>\n",
       "      <th>cmbirth</th>\n",
       "      <th>agescrn</th>\n",
       "      <th>...</th>\n",
       "      <th>pubassis_i</th>\n",
       "      <th>basewgt</th>\n",
       "      <th>adj_mod_basewgt</th>\n",
       "      <th>finalwgt</th>\n",
       "      <th>secu_r</th>\n",
       "      <th>sest</th>\n",
       "      <th>cmintvw</th>\n",
       "      <th>cmlstyr</th>\n",
       "      <th>screentime</th>\n",
       "      <th>intvlngth</th>\n",
       "    </tr>\n",
       "  </thead>\n",
       "  <tbody>\n",
       "    <tr>\n",
       "      <th>45</th>\n",
       "      <td>7081</td>\n",
       "      <td>5</td>\n",
       "      <td>5</td>\n",
       "      <td>3</td>\n",
       "      <td>1</td>\n",
       "      <td>5.0</td>\n",
       "      <td>35</td>\n",
       "      <td>35</td>\n",
       "      <td>805</td>\n",
       "      <td>35</td>\n",
       "      <td>...</td>\n",
       "      <td>0</td>\n",
       "      <td>5837.228186</td>\n",
       "      <td>6773.516282</td>\n",
       "      <td>7326.912562</td>\n",
       "      <td>2</td>\n",
       "      <td>83</td>\n",
       "      <td>1233</td>\n",
       "      <td>1221</td>\n",
       "      <td>11:40:08</td>\n",
       "      <td>103.980333</td>\n",
       "    </tr>\n",
       "    <tr>\n",
       "      <th>48</th>\n",
       "      <td>9242</td>\n",
       "      <td>5</td>\n",
       "      <td>5</td>\n",
       "      <td>2</td>\n",
       "      <td>1</td>\n",
       "      <td>5.0</td>\n",
       "      <td>29</td>\n",
       "      <td>29</td>\n",
       "      <td>888</td>\n",
       "      <td>29</td>\n",
       "      <td>...</td>\n",
       "      <td>0</td>\n",
       "      <td>3363.355288</td>\n",
       "      <td>5310.258519</td>\n",
       "      <td>5758.975364</td>\n",
       "      <td>2</td>\n",
       "      <td>83</td>\n",
       "      <td>1237</td>\n",
       "      <td>1225</td>\n",
       "      <td>12:02:18</td>\n",
       "      <td>69.112833</td>\n",
       "    </tr>\n",
       "    <tr>\n",
       "      <th>53</th>\n",
       "      <td>8785</td>\n",
       "      <td>5</td>\n",
       "      <td>5</td>\n",
       "      <td>3</td>\n",
       "      <td>1</td>\n",
       "      <td>5.0</td>\n",
       "      <td>37</td>\n",
       "      <td>37</td>\n",
       "      <td>793</td>\n",
       "      <td>37</td>\n",
       "      <td>...</td>\n",
       "      <td>0</td>\n",
       "      <td>5798.840668</td>\n",
       "      <td>6718.111775</td>\n",
       "      <td>7266.981507</td>\n",
       "      <td>2</td>\n",
       "      <td>83</td>\n",
       "      <td>1238</td>\n",
       "      <td>1226</td>\n",
       "      <td>18:20:56</td>\n",
       "      <td>68.210167</td>\n",
       "    </tr>\n",
       "    <tr>\n",
       "      <th>54</th>\n",
       "      <td>1511</td>\n",
       "      <td>1</td>\n",
       "      <td>5</td>\n",
       "      <td>5</td>\n",
       "      <td>5</td>\n",
       "      <td>5.0</td>\n",
       "      <td>42</td>\n",
       "      <td>42</td>\n",
       "      <td>731</td>\n",
       "      <td>42</td>\n",
       "      <td>...</td>\n",
       "      <td>0</td>\n",
       "      <td>5509.583267</td>\n",
       "      <td>6305.199061</td>\n",
       "      <td>10507.614236</td>\n",
       "      <td>2</td>\n",
       "      <td>83</td>\n",
       "      <td>1238</td>\n",
       "      <td>1226</td>\n",
       "      <td>16:35:27</td>\n",
       "      <td>66.828833</td>\n",
       "    </tr>\n",
       "    <tr>\n",
       "      <th>74</th>\n",
       "      <td>8269</td>\n",
       "      <td>1</td>\n",
       "      <td>5</td>\n",
       "      <td>3</td>\n",
       "      <td>5</td>\n",
       "      <td>5.0</td>\n",
       "      <td>24</td>\n",
       "      <td>24</td>\n",
       "      <td>939</td>\n",
       "      <td>24</td>\n",
       "      <td>...</td>\n",
       "      <td>0</td>\n",
       "      <td>2668.984249</td>\n",
       "      <td>3259.635980</td>\n",
       "      <td>4585.329933</td>\n",
       "      <td>1</td>\n",
       "      <td>55</td>\n",
       "      <td>1231</td>\n",
       "      <td>1219</td>\n",
       "      <td>15:07:17</td>\n",
       "      <td>87.511833</td>\n",
       "    </tr>\n",
       "    <tr>\n",
       "      <th>86</th>\n",
       "      <td>6145</td>\n",
       "      <td>5</td>\n",
       "      <td>5</td>\n",
       "      <td>4</td>\n",
       "      <td>5</td>\n",
       "      <td>5.0</td>\n",
       "      <td>27</td>\n",
       "      <td>27</td>\n",
       "      <td>904</td>\n",
       "      <td>27</td>\n",
       "      <td>...</td>\n",
       "      <td>0</td>\n",
       "      <td>3454.806924</td>\n",
       "      <td>5325.500205</td>\n",
       "      <td>8956.958795</td>\n",
       "      <td>2</td>\n",
       "      <td>55</td>\n",
       "      <td>1235</td>\n",
       "      <td>1223</td>\n",
       "      <td>15:43:38</td>\n",
       "      <td>73.773167</td>\n",
       "    </tr>\n",
       "    <tr>\n",
       "      <th>87</th>\n",
       "      <td>10463</td>\n",
       "      <td>5</td>\n",
       "      <td>5</td>\n",
       "      <td>4</td>\n",
       "      <td>5</td>\n",
       "      <td>5.0</td>\n",
       "      <td>15</td>\n",
       "      <td>15</td>\n",
       "      <td>1044</td>\n",
       "      <td>15</td>\n",
       "      <td>...</td>\n",
       "      <td>0</td>\n",
       "      <td>5988.332002</td>\n",
       "      <td>6651.174387</td>\n",
       "      <td>11698.750629</td>\n",
       "      <td>2</td>\n",
       "      <td>55</td>\n",
       "      <td>1232</td>\n",
       "      <td>1220</td>\n",
       "      <td>19:29:29</td>\n",
       "      <td>40.698833</td>\n",
       "    </tr>\n",
       "    <tr>\n",
       "      <th>93</th>\n",
       "      <td>3800</td>\n",
       "      <td>1</td>\n",
       "      <td>5</td>\n",
       "      <td>3</td>\n",
       "      <td>1</td>\n",
       "      <td>5.0</td>\n",
       "      <td>19</td>\n",
       "      <td>19</td>\n",
       "      <td>998</td>\n",
       "      <td>19</td>\n",
       "      <td>...</td>\n",
       "      <td>0</td>\n",
       "      <td>4522.337864</td>\n",
       "      <td>5349.559967</td>\n",
       "      <td>6248.820998</td>\n",
       "      <td>1</td>\n",
       "      <td>55</td>\n",
       "      <td>1234</td>\n",
       "      <td>1222</td>\n",
       "      <td>16:31:05</td>\n",
       "      <td>48.481000</td>\n",
       "    </tr>\n",
       "    <tr>\n",
       "      <th>98</th>\n",
       "      <td>2281</td>\n",
       "      <td>1</td>\n",
       "      <td>5</td>\n",
       "      <td>3</td>\n",
       "      <td>1</td>\n",
       "      <td>5.0</td>\n",
       "      <td>34</td>\n",
       "      <td>34</td>\n",
       "      <td>824</td>\n",
       "      <td>34</td>\n",
       "      <td>...</td>\n",
       "      <td>0</td>\n",
       "      <td>2418.362494</td>\n",
       "      <td>4000.143595</td>\n",
       "      <td>5076.582236</td>\n",
       "      <td>1</td>\n",
       "      <td>55</td>\n",
       "      <td>1237</td>\n",
       "      <td>1225</td>\n",
       "      <td>14:51:27</td>\n",
       "      <td>103.194000</td>\n",
       "    </tr>\n",
       "    <tr>\n",
       "      <th>110</th>\n",
       "      <td>7430</td>\n",
       "      <td>1</td>\n",
       "      <td>5</td>\n",
       "      <td>4</td>\n",
       "      <td>5</td>\n",
       "      <td>5.0</td>\n",
       "      <td>18</td>\n",
       "      <td>18</td>\n",
       "      <td>1019</td>\n",
       "      <td>18</td>\n",
       "      <td>...</td>\n",
       "      <td>0</td>\n",
       "      <td>3483.596982</td>\n",
       "      <td>6493.461952</td>\n",
       "      <td>11421.350227</td>\n",
       "      <td>2</td>\n",
       "      <td>55</td>\n",
       "      <td>1236</td>\n",
       "      <td>1224</td>\n",
       "      <td>17:11:44</td>\n",
       "      <td>46.517333</td>\n",
       "    </tr>\n",
       "    <tr>\n",
       "      <th>111</th>\n",
       "      <td>545</td>\n",
       "      <td>1</td>\n",
       "      <td>5</td>\n",
       "      <td>3</td>\n",
       "      <td>5</td>\n",
       "      <td>5.0</td>\n",
       "      <td>19</td>\n",
       "      <td>19</td>\n",
       "      <td>1005</td>\n",
       "      <td>19</td>\n",
       "      <td>...</td>\n",
       "      <td>0</td>\n",
       "      <td>2418.364847</td>\n",
       "      <td>2813.155274</td>\n",
       "      <td>4948.058811</td>\n",
       "      <td>2</td>\n",
       "      <td>55</td>\n",
       "      <td>1236</td>\n",
       "      <td>1224</td>\n",
       "      <td>16:15:26</td>\n",
       "      <td>95.646333</td>\n",
       "    </tr>\n",
       "    <tr>\n",
       "      <th>119</th>\n",
       "      <td>3349</td>\n",
       "      <td>1</td>\n",
       "      <td>5</td>\n",
       "      <td>3</td>\n",
       "      <td>5</td>\n",
       "      <td>5.0</td>\n",
       "      <td>37</td>\n",
       "      <td>37</td>\n",
       "      <td>788</td>\n",
       "      <td>37</td>\n",
       "      <td>...</td>\n",
       "      <td>0</td>\n",
       "      <td>2418.364847</td>\n",
       "      <td>4377.598947</td>\n",
       "      <td>7988.680318</td>\n",
       "      <td>2</td>\n",
       "      <td>55</td>\n",
       "      <td>1237</td>\n",
       "      <td>1225</td>\n",
       "      <td>13:01:07</td>\n",
       "      <td>76.961667</td>\n",
       "    </tr>\n",
       "    <tr>\n",
       "      <th>135</th>\n",
       "      <td>785</td>\n",
       "      <td>1</td>\n",
       "      <td>5</td>\n",
       "      <td>2</td>\n",
       "      <td>5</td>\n",
       "      <td>5.0</td>\n",
       "      <td>26</td>\n",
       "      <td>26</td>\n",
       "      <td>916</td>\n",
       "      <td>26</td>\n",
       "      <td>...</td>\n",
       "      <td>0</td>\n",
       "      <td>2418.502854</td>\n",
       "      <td>2805.002446</td>\n",
       "      <td>4717.733613</td>\n",
       "      <td>1</td>\n",
       "      <td>55</td>\n",
       "      <td>1233</td>\n",
       "      <td>1221</td>\n",
       "      <td>20:51:27</td>\n",
       "      <td>80.075000</td>\n",
       "    </tr>\n",
       "    <tr>\n",
       "      <th>136</th>\n",
       "      <td>5321</td>\n",
       "      <td>5</td>\n",
       "      <td>5</td>\n",
       "      <td>3</td>\n",
       "      <td>5</td>\n",
       "      <td>5.0</td>\n",
       "      <td>20</td>\n",
       "      <td>20</td>\n",
       "      <td>986</td>\n",
       "      <td>20</td>\n",
       "      <td>...</td>\n",
       "      <td>0</td>\n",
       "      <td>2418.502854</td>\n",
       "      <td>2904.336489</td>\n",
       "      <td>4085.530139</td>\n",
       "      <td>1</td>\n",
       "      <td>55</td>\n",
       "      <td>1232</td>\n",
       "      <td>1220</td>\n",
       "      <td>19:27:03</td>\n",
       "      <td>73.284333</td>\n",
       "    </tr>\n",
       "    <tr>\n",
       "      <th>158</th>\n",
       "      <td>6032</td>\n",
       "      <td>5</td>\n",
       "      <td>5</td>\n",
       "      <td>4</td>\n",
       "      <td>5</td>\n",
       "      <td>5.0</td>\n",
       "      <td>17</td>\n",
       "      <td>17</td>\n",
       "      <td>1017</td>\n",
       "      <td>17</td>\n",
       "      <td>...</td>\n",
       "      <td>0</td>\n",
       "      <td>5901.853981</td>\n",
       "      <td>7484.561863</td>\n",
       "      <td>13164.595861</td>\n",
       "      <td>1</td>\n",
       "      <td>7</td>\n",
       "      <td>1232</td>\n",
       "      <td>1220</td>\n",
       "      <td>17:49:47</td>\n",
       "      <td>44.481333</td>\n",
       "    </tr>\n",
       "    <tr>\n",
       "      <th>159</th>\n",
       "      <td>2885</td>\n",
       "      <td>5</td>\n",
       "      <td>5</td>\n",
       "      <td>3</td>\n",
       "      <td>5</td>\n",
       "      <td>5.0</td>\n",
       "      <td>16</td>\n",
       "      <td>16</td>\n",
       "      <td>1031</td>\n",
       "      <td>16</td>\n",
       "      <td>...</td>\n",
       "      <td>0</td>\n",
       "      <td>2677.426440</td>\n",
       "      <td>3018.783525</td>\n",
       "      <td>5309.738342</td>\n",
       "      <td>1</td>\n",
       "      <td>7</td>\n",
       "      <td>1232</td>\n",
       "      <td>1220</td>\n",
       "      <td>19:55:17</td>\n",
       "      <td>77.266500</td>\n",
       "    </tr>\n",
       "    <tr>\n",
       "      <th>160</th>\n",
       "      <td>11333</td>\n",
       "      <td>1</td>\n",
       "      <td>5</td>\n",
       "      <td>3</td>\n",
       "      <td>1</td>\n",
       "      <td>5.0</td>\n",
       "      <td>41</td>\n",
       "      <td>41</td>\n",
       "      <td>731</td>\n",
       "      <td>41</td>\n",
       "      <td>...</td>\n",
       "      <td>0</td>\n",
       "      <td>2418.327197</td>\n",
       "      <td>2960.540333</td>\n",
       "      <td>3739.162440</td>\n",
       "      <td>2</td>\n",
       "      <td>7</td>\n",
       "      <td>1233</td>\n",
       "      <td>1221</td>\n",
       "      <td>15:46:41</td>\n",
       "      <td>59.639492</td>\n",
       "    </tr>\n",
       "    <tr>\n",
       "      <th>178</th>\n",
       "      <td>8181</td>\n",
       "      <td>1</td>\n",
       "      <td>5</td>\n",
       "      <td>3</td>\n",
       "      <td>1</td>\n",
       "      <td>5.0</td>\n",
       "      <td>36</td>\n",
       "      <td>36</td>\n",
       "      <td>798</td>\n",
       "      <td>36</td>\n",
       "      <td>...</td>\n",
       "      <td>0</td>\n",
       "      <td>6142.930596</td>\n",
       "      <td>6797.797255</td>\n",
       "      <td>7353.177291</td>\n",
       "      <td>1</td>\n",
       "      <td>7</td>\n",
       "      <td>1236</td>\n",
       "      <td>1224</td>\n",
       "      <td>11:58:52</td>\n",
       "      <td>52.456500</td>\n",
       "    </tr>\n",
       "    <tr>\n",
       "      <th>197</th>\n",
       "      <td>2257</td>\n",
       "      <td>1</td>\n",
       "      <td>5</td>\n",
       "      <td>2</td>\n",
       "      <td>5</td>\n",
       "      <td>5.0</td>\n",
       "      <td>27</td>\n",
       "      <td>27</td>\n",
       "      <td>895</td>\n",
       "      <td>27</td>\n",
       "      <td>...</td>\n",
       "      <td>0</td>\n",
       "      <td>3454.747293</td>\n",
       "      <td>4037.582954</td>\n",
       "      <td>6790.810770</td>\n",
       "      <td>2</td>\n",
       "      <td>7</td>\n",
       "      <td>1231</td>\n",
       "      <td>1219</td>\n",
       "      <td>15:21:24</td>\n",
       "      <td>90.543833</td>\n",
       "    </tr>\n",
       "    <tr>\n",
       "      <th>206</th>\n",
       "      <td>9227</td>\n",
       "      <td>1</td>\n",
       "      <td>5</td>\n",
       "      <td>5</td>\n",
       "      <td>5</td>\n",
       "      <td>5.0</td>\n",
       "      <td>40</td>\n",
       "      <td>40</td>\n",
       "      <td>744</td>\n",
       "      <td>40</td>\n",
       "      <td>...</td>\n",
       "      <td>0</td>\n",
       "      <td>2418.442263</td>\n",
       "      <td>2762.299504</td>\n",
       "      <td>4603.372123</td>\n",
       "      <td>1</td>\n",
       "      <td>7</td>\n",
       "      <td>1233</td>\n",
       "      <td>1221</td>\n",
       "      <td>19:20:06</td>\n",
       "      <td>71.954333</td>\n",
       "    </tr>\n",
       "    <tr>\n",
       "      <th>213</th>\n",
       "      <td>116</td>\n",
       "      <td>5</td>\n",
       "      <td>5</td>\n",
       "      <td>2</td>\n",
       "      <td>5</td>\n",
       "      <td>5.0</td>\n",
       "      <td>38</td>\n",
       "      <td>38</td>\n",
       "      <td>764</td>\n",
       "      <td>38</td>\n",
       "      <td>...</td>\n",
       "      <td>0</td>\n",
       "      <td>3454.265652</td>\n",
       "      <td>3989.528508</td>\n",
       "      <td>7280.490573</td>\n",
       "      <td>2</td>\n",
       "      <td>7</td>\n",
       "      <td>1231</td>\n",
       "      <td>1219</td>\n",
       "      <td>19:18:03</td>\n",
       "      <td>74.859000</td>\n",
       "    </tr>\n",
       "    <tr>\n",
       "      <th>232</th>\n",
       "      <td>10803</td>\n",
       "      <td>1</td>\n",
       "      <td>5</td>\n",
       "      <td>3</td>\n",
       "      <td>5</td>\n",
       "      <td>2.0</td>\n",
       "      <td>31</td>\n",
       "      <td>31</td>\n",
       "      <td>853</td>\n",
       "      <td>31</td>\n",
       "      <td>...</td>\n",
       "      <td>0</td>\n",
       "      <td>3195.715602</td>\n",
       "      <td>3657.543699</td>\n",
       "      <td>6345.838317</td>\n",
       "      <td>2</td>\n",
       "      <td>81</td>\n",
       "      <td>1235</td>\n",
       "      <td>1223</td>\n",
       "      <td>17:04:55</td>\n",
       "      <td>111.759667</td>\n",
       "    </tr>\n",
       "    <tr>\n",
       "      <th>233</th>\n",
       "      <td>781</td>\n",
       "      <td>5</td>\n",
       "      <td>5</td>\n",
       "      <td>3</td>\n",
       "      <td>5</td>\n",
       "      <td>4.0</td>\n",
       "      <td>30</td>\n",
       "      <td>30</td>\n",
       "      <td>865</td>\n",
       "      <td>30</td>\n",
       "      <td>...</td>\n",
       "      <td>0</td>\n",
       "      <td>2418.379375</td>\n",
       "      <td>2747.740868</td>\n",
       "      <td>3572.337902</td>\n",
       "      <td>2</td>\n",
       "      <td>81</td>\n",
       "      <td>1236</td>\n",
       "      <td>1224</td>\n",
       "      <td>15:08:41</td>\n",
       "      <td>82.661167</td>\n",
       "    </tr>\n",
       "    <tr>\n",
       "      <th>255</th>\n",
       "      <td>10113</td>\n",
       "      <td>1</td>\n",
       "      <td>5</td>\n",
       "      <td>3</td>\n",
       "      <td>5</td>\n",
       "      <td>5.0</td>\n",
       "      <td>40</td>\n",
       "      <td>40</td>\n",
       "      <td>745</td>\n",
       "      <td>40</td>\n",
       "      <td>...</td>\n",
       "      <td>0</td>\n",
       "      <td>3195.610787</td>\n",
       "      <td>3593.860715</td>\n",
       "      <td>5989.168881</td>\n",
       "      <td>2</td>\n",
       "      <td>81</td>\n",
       "      <td>1237</td>\n",
       "      <td>1225</td>\n",
       "      <td>09:11:18</td>\n",
       "      <td>60.138833</td>\n",
       "    </tr>\n",
       "    <tr>\n",
       "      <th>262</th>\n",
       "      <td>1774</td>\n",
       "      <td>1</td>\n",
       "      <td>5</td>\n",
       "      <td>3</td>\n",
       "      <td>5</td>\n",
       "      <td>5.0</td>\n",
       "      <td>38</td>\n",
       "      <td>38</td>\n",
       "      <td>781</td>\n",
       "      <td>38</td>\n",
       "      <td>...</td>\n",
       "      <td>0</td>\n",
       "      <td>4169.619611</td>\n",
       "      <td>6692.722672</td>\n",
       "      <td>12213.549605</td>\n",
       "      <td>2</td>\n",
       "      <td>81</td>\n",
       "      <td>1238</td>\n",
       "      <td>1226</td>\n",
       "      <td>17:10:59</td>\n",
       "      <td>51.369000</td>\n",
       "    </tr>\n",
       "    <tr>\n",
       "      <th>267</th>\n",
       "      <td>12215</td>\n",
       "      <td>1</td>\n",
       "      <td>5</td>\n",
       "      <td>4</td>\n",
       "      <td>5</td>\n",
       "      <td>5.0</td>\n",
       "      <td>39</td>\n",
       "      <td>39</td>\n",
       "      <td>761</td>\n",
       "      <td>39</td>\n",
       "      <td>...</td>\n",
       "      <td>0</td>\n",
       "      <td>2418.235397</td>\n",
       "      <td>2931.520066</td>\n",
       "      <td>5349.730969</td>\n",
       "      <td>2</td>\n",
       "      <td>81</td>\n",
       "      <td>1237</td>\n",
       "      <td>1225</td>\n",
       "      <td>11:36:48</td>\n",
       "      <td>61.776500</td>\n",
       "    </tr>\n",
       "    <tr>\n",
       "      <th>271</th>\n",
       "      <td>4921</td>\n",
       "      <td>5</td>\n",
       "      <td>5</td>\n",
       "      <td>4</td>\n",
       "      <td>5</td>\n",
       "      <td>5.0</td>\n",
       "      <td>42</td>\n",
       "      <td>42</td>\n",
       "      <td>727</td>\n",
       "      <td>42</td>\n",
       "      <td>...</td>\n",
       "      <td>0</td>\n",
       "      <td>2418.235397</td>\n",
       "      <td>2932.110782</td>\n",
       "      <td>4886.362618</td>\n",
       "      <td>2</td>\n",
       "      <td>81</td>\n",
       "      <td>1237</td>\n",
       "      <td>1225</td>\n",
       "      <td>16:29:53</td>\n",
       "      <td>76.587167</td>\n",
       "    </tr>\n",
       "    <tr>\n",
       "      <th>272</th>\n",
       "      <td>11874</td>\n",
       "      <td>1</td>\n",
       "      <td>5</td>\n",
       "      <td>4</td>\n",
       "      <td>5</td>\n",
       "      <td>5.0</td>\n",
       "      <td>40</td>\n",
       "      <td>40</td>\n",
       "      <td>748</td>\n",
       "      <td>40</td>\n",
       "      <td>...</td>\n",
       "      <td>0</td>\n",
       "      <td>11019.773947</td>\n",
       "      <td>21664.265372</td>\n",
       "      <td>36103.498243</td>\n",
       "      <td>1</td>\n",
       "      <td>81</td>\n",
       "      <td>1238</td>\n",
       "      <td>1226</td>\n",
       "      <td>10:39:14</td>\n",
       "      <td>107.295167</td>\n",
       "    </tr>\n",
       "    <tr>\n",
       "      <th>280</th>\n",
       "      <td>3319</td>\n",
       "      <td>5</td>\n",
       "      <td>5</td>\n",
       "      <td>6</td>\n",
       "      <td>5</td>\n",
       "      <td>5.0</td>\n",
       "      <td>15</td>\n",
       "      <td>15</td>\n",
       "      <td>1051</td>\n",
       "      <td>15</td>\n",
       "      <td>...</td>\n",
       "      <td>0</td>\n",
       "      <td>2763.769086</td>\n",
       "      <td>3065.488233</td>\n",
       "      <td>5391.887252</td>\n",
       "      <td>2</td>\n",
       "      <td>79</td>\n",
       "      <td>1235</td>\n",
       "      <td>1223</td>\n",
       "      <td>15:14:51</td>\n",
       "      <td>33.338833</td>\n",
       "    </tr>\n",
       "    <tr>\n",
       "      <th>288</th>\n",
       "      <td>1424</td>\n",
       "      <td>1</td>\n",
       "      <td>5</td>\n",
       "      <td>1</td>\n",
       "      <td>5</td>\n",
       "      <td>5.0</td>\n",
       "      <td>25</td>\n",
       "      <td>25</td>\n",
       "      <td>932</td>\n",
       "      <td>25</td>\n",
       "      <td>...</td>\n",
       "      <td>0</td>\n",
       "      <td>2418.299315</td>\n",
       "      <td>3164.521493</td>\n",
       "      <td>5322.408700</td>\n",
       "      <td>1</td>\n",
       "      <td>79</td>\n",
       "      <td>1235</td>\n",
       "      <td>1223</td>\n",
       "      <td>18:14:26</td>\n",
       "      <td>41.480667</td>\n",
       "    </tr>\n",
       "    <tr>\n",
       "      <th>...</th>\n",
       "      <td>...</td>\n",
       "      <td>...</td>\n",
       "      <td>...</td>\n",
       "      <td>...</td>\n",
       "      <td>...</td>\n",
       "      <td>...</td>\n",
       "      <td>...</td>\n",
       "      <td>...</td>\n",
       "      <td>...</td>\n",
       "      <td>...</td>\n",
       "      <td>...</td>\n",
       "      <td>...</td>\n",
       "      <td>...</td>\n",
       "      <td>...</td>\n",
       "      <td>...</td>\n",
       "      <td>...</td>\n",
       "      <td>...</td>\n",
       "      <td>...</td>\n",
       "      <td>...</td>\n",
       "      <td>...</td>\n",
       "      <td>...</td>\n",
       "    </tr>\n",
       "    <tr>\n",
       "      <th>7447</th>\n",
       "      <td>12125</td>\n",
       "      <td>1</td>\n",
       "      <td>5</td>\n",
       "      <td>1</td>\n",
       "      <td>5</td>\n",
       "      <td>5.0</td>\n",
       "      <td>38</td>\n",
       "      <td>38</td>\n",
       "      <td>772</td>\n",
       "      <td>38</td>\n",
       "      <td>...</td>\n",
       "      <td>0</td>\n",
       "      <td>2418.297347</td>\n",
       "      <td>2703.826471</td>\n",
       "      <td>4934.212926</td>\n",
       "      <td>1</td>\n",
       "      <td>16</td>\n",
       "      <td>1233</td>\n",
       "      <td>1221</td>\n",
       "      <td>20:36:03</td>\n",
       "      <td>103.920833</td>\n",
       "    </tr>\n",
       "    <tr>\n",
       "      <th>7450</th>\n",
       "      <td>5543</td>\n",
       "      <td>1</td>\n",
       "      <td>5</td>\n",
       "      <td>2</td>\n",
       "      <td>5</td>\n",
       "      <td>5.0</td>\n",
       "      <td>26</td>\n",
       "      <td>26</td>\n",
       "      <td>920</td>\n",
       "      <td>26</td>\n",
       "      <td>...</td>\n",
       "      <td>0</td>\n",
       "      <td>3195.607209</td>\n",
       "      <td>3697.752413</td>\n",
       "      <td>6219.249784</td>\n",
       "      <td>1</td>\n",
       "      <td>16</td>\n",
       "      <td>1233</td>\n",
       "      <td>1221</td>\n",
       "      <td>16:28:46</td>\n",
       "      <td>87.248333</td>\n",
       "    </tr>\n",
       "    <tr>\n",
       "      <th>7462</th>\n",
       "      <td>5510</td>\n",
       "      <td>1</td>\n",
       "      <td>5</td>\n",
       "      <td>2</td>\n",
       "      <td>5</td>\n",
       "      <td>5.0</td>\n",
       "      <td>31</td>\n",
       "      <td>31</td>\n",
       "      <td>856</td>\n",
       "      <td>31</td>\n",
       "      <td>...</td>\n",
       "      <td>0</td>\n",
       "      <td>5509.692068</td>\n",
       "      <td>6465.528182</td>\n",
       "      <td>11217.691396</td>\n",
       "      <td>2</td>\n",
       "      <td>16</td>\n",
       "      <td>1238</td>\n",
       "      <td>1226</td>\n",
       "      <td>23:02:48</td>\n",
       "      <td>124.715667</td>\n",
       "    </tr>\n",
       "    <tr>\n",
       "      <th>7463</th>\n",
       "      <td>1735</td>\n",
       "      <td>5</td>\n",
       "      <td>5</td>\n",
       "      <td>2</td>\n",
       "      <td>5</td>\n",
       "      <td>5.0</td>\n",
       "      <td>38</td>\n",
       "      <td>38</td>\n",
       "      <td>777</td>\n",
       "      <td>38</td>\n",
       "      <td>...</td>\n",
       "      <td>0</td>\n",
       "      <td>5509.667601</td>\n",
       "      <td>9063.592294</td>\n",
       "      <td>16540.149578</td>\n",
       "      <td>1</td>\n",
       "      <td>16</td>\n",
       "      <td>1238</td>\n",
       "      <td>1226</td>\n",
       "      <td>22:42:45</td>\n",
       "      <td>57.002500</td>\n",
       "    </tr>\n",
       "    <tr>\n",
       "      <th>7465</th>\n",
       "      <td>6863</td>\n",
       "      <td>1</td>\n",
       "      <td>5</td>\n",
       "      <td>1</td>\n",
       "      <td>5</td>\n",
       "      <td>5.0</td>\n",
       "      <td>27</td>\n",
       "      <td>27</td>\n",
       "      <td>912</td>\n",
       "      <td>27</td>\n",
       "      <td>...</td>\n",
       "      <td>0</td>\n",
       "      <td>4169.478185</td>\n",
       "      <td>5431.469037</td>\n",
       "      <td>9135.187774</td>\n",
       "      <td>1</td>\n",
       "      <td>16</td>\n",
       "      <td>1238</td>\n",
       "      <td>1226</td>\n",
       "      <td>23:25:12</td>\n",
       "      <td>112.317167</td>\n",
       "    </tr>\n",
       "    <tr>\n",
       "      <th>7474</th>\n",
       "      <td>9320</td>\n",
       "      <td>1</td>\n",
       "      <td>5</td>\n",
       "      <td>4</td>\n",
       "      <td>5</td>\n",
       "      <td>5.0</td>\n",
       "      <td>43</td>\n",
       "      <td>43</td>\n",
       "      <td>711</td>\n",
       "      <td>43</td>\n",
       "      <td>...</td>\n",
       "      <td>0</td>\n",
       "      <td>3409.479524</td>\n",
       "      <td>3912.093011</td>\n",
       "      <td>6519.503003</td>\n",
       "      <td>2</td>\n",
       "      <td>1</td>\n",
       "      <td>1228</td>\n",
       "      <td>1216</td>\n",
       "      <td>16:02:38</td>\n",
       "      <td>94.228333</td>\n",
       "    </tr>\n",
       "    <tr>\n",
       "      <th>7480</th>\n",
       "      <td>4249</td>\n",
       "      <td>1</td>\n",
       "      <td>5</td>\n",
       "      <td>2</td>\n",
       "      <td>5</td>\n",
       "      <td>1.0</td>\n",
       "      <td>41</td>\n",
       "      <td>41</td>\n",
       "      <td>740</td>\n",
       "      <td>41</td>\n",
       "      <td>...</td>\n",
       "      <td>0</td>\n",
       "      <td>3409.490745</td>\n",
       "      <td>3845.771561</td>\n",
       "      <td>6408.978307</td>\n",
       "      <td>1</td>\n",
       "      <td>1</td>\n",
       "      <td>1234</td>\n",
       "      <td>1222</td>\n",
       "      <td>13:27:58</td>\n",
       "      <td>121.108000</td>\n",
       "    </tr>\n",
       "    <tr>\n",
       "      <th>7498</th>\n",
       "      <td>7589</td>\n",
       "      <td>1</td>\n",
       "      <td>5</td>\n",
       "      <td>4</td>\n",
       "      <td>5</td>\n",
       "      <td>1.0</td>\n",
       "      <td>36</td>\n",
       "      <td>36</td>\n",
       "      <td>800</td>\n",
       "      <td>36</td>\n",
       "      <td>...</td>\n",
       "      <td>0</td>\n",
       "      <td>4870.700211</td>\n",
       "      <td>5501.803080</td>\n",
       "      <td>10040.240441</td>\n",
       "      <td>1</td>\n",
       "      <td>1</td>\n",
       "      <td>1233</td>\n",
       "      <td>1221</td>\n",
       "      <td>12:21:25</td>\n",
       "      <td>103.878000</td>\n",
       "    </tr>\n",
       "    <tr>\n",
       "      <th>7500</th>\n",
       "      <td>3224</td>\n",
       "      <td>5</td>\n",
       "      <td>5</td>\n",
       "      <td>3</td>\n",
       "      <td>5</td>\n",
       "      <td>5.0</td>\n",
       "      <td>15</td>\n",
       "      <td>15</td>\n",
       "      <td>1044</td>\n",
       "      <td>15</td>\n",
       "      <td>...</td>\n",
       "      <td>0</td>\n",
       "      <td>3224.367223</td>\n",
       "      <td>3620.796555</td>\n",
       "      <td>6368.619061</td>\n",
       "      <td>2</td>\n",
       "      <td>58</td>\n",
       "      <td>1233</td>\n",
       "      <td>1221</td>\n",
       "      <td>18:42:03</td>\n",
       "      <td>45.884833</td>\n",
       "    </tr>\n",
       "    <tr>\n",
       "      <th>7501</th>\n",
       "      <td>11752</td>\n",
       "      <td>5</td>\n",
       "      <td>5</td>\n",
       "      <td>5</td>\n",
       "      <td>5</td>\n",
       "      <td>5.0</td>\n",
       "      <td>31</td>\n",
       "      <td>31</td>\n",
       "      <td>855</td>\n",
       "      <td>31</td>\n",
       "      <td>...</td>\n",
       "      <td>0</td>\n",
       "      <td>3195.578230</td>\n",
       "      <td>3384.945559</td>\n",
       "      <td>5872.880545</td>\n",
       "      <td>2</td>\n",
       "      <td>58</td>\n",
       "      <td>1234</td>\n",
       "      <td>1222</td>\n",
       "      <td>18:47:46</td>\n",
       "      <td>97.988000</td>\n",
       "    </tr>\n",
       "    <tr>\n",
       "      <th>7513</th>\n",
       "      <td>3912</td>\n",
       "      <td>1</td>\n",
       "      <td>5</td>\n",
       "      <td>3</td>\n",
       "      <td>5</td>\n",
       "      <td>5.0</td>\n",
       "      <td>44</td>\n",
       "      <td>44</td>\n",
       "      <td>694</td>\n",
       "      <td>44</td>\n",
       "      <td>...</td>\n",
       "      <td>0</td>\n",
       "      <td>3195.580053</td>\n",
       "      <td>3443.701904</td>\n",
       "      <td>5738.929224</td>\n",
       "      <td>2</td>\n",
       "      <td>58</td>\n",
       "      <td>1233</td>\n",
       "      <td>1221</td>\n",
       "      <td>17:24:23</td>\n",
       "      <td>68.074667</td>\n",
       "    </tr>\n",
       "    <tr>\n",
       "      <th>7514</th>\n",
       "      <td>11772</td>\n",
       "      <td>5</td>\n",
       "      <td>5</td>\n",
       "      <td>5</td>\n",
       "      <td>5</td>\n",
       "      <td>5.0</td>\n",
       "      <td>32</td>\n",
       "      <td>32</td>\n",
       "      <td>850</td>\n",
       "      <td>32</td>\n",
       "      <td>...</td>\n",
       "      <td>0</td>\n",
       "      <td>5509.620782</td>\n",
       "      <td>6607.626599</td>\n",
       "      <td>11464.232149</td>\n",
       "      <td>2</td>\n",
       "      <td>58</td>\n",
       "      <td>1238</td>\n",
       "      <td>1226</td>\n",
       "      <td>15:05:58</td>\n",
       "      <td>106.330333</td>\n",
       "    </tr>\n",
       "    <tr>\n",
       "      <th>7515</th>\n",
       "      <td>3130</td>\n",
       "      <td>1</td>\n",
       "      <td>5</td>\n",
       "      <td>3</td>\n",
       "      <td>5</td>\n",
       "      <td>5.0</td>\n",
       "      <td>37</td>\n",
       "      <td>37</td>\n",
       "      <td>783</td>\n",
       "      <td>37</td>\n",
       "      <td>...</td>\n",
       "      <td>0</td>\n",
       "      <td>9827.837390</td>\n",
       "      <td>10821.218366</td>\n",
       "      <td>19747.641396</td>\n",
       "      <td>1</td>\n",
       "      <td>58</td>\n",
       "      <td>1232</td>\n",
       "      <td>1220</td>\n",
       "      <td>14:45:36</td>\n",
       "      <td>80.299167</td>\n",
       "    </tr>\n",
       "    <tr>\n",
       "      <th>7518</th>\n",
       "      <td>8160</td>\n",
       "      <td>5</td>\n",
       "      <td>5</td>\n",
       "      <td>3</td>\n",
       "      <td>5</td>\n",
       "      <td>5.0</td>\n",
       "      <td>15</td>\n",
       "      <td>15</td>\n",
       "      <td>1048</td>\n",
       "      <td>15</td>\n",
       "      <td>...</td>\n",
       "      <td>0</td>\n",
       "      <td>2418.275417</td>\n",
       "      <td>3015.672948</td>\n",
       "      <td>5304.267149</td>\n",
       "      <td>2</td>\n",
       "      <td>58</td>\n",
       "      <td>1237</td>\n",
       "      <td>1225</td>\n",
       "      <td>17:38:30</td>\n",
       "      <td>31.467667</td>\n",
       "    </tr>\n",
       "    <tr>\n",
       "      <th>7540</th>\n",
       "      <td>4099</td>\n",
       "      <td>5</td>\n",
       "      <td>5</td>\n",
       "      <td>3</td>\n",
       "      <td>5</td>\n",
       "      <td>5.0</td>\n",
       "      <td>23</td>\n",
       "      <td>23</td>\n",
       "      <td>952</td>\n",
       "      <td>23</td>\n",
       "      <td>...</td>\n",
       "      <td>0</td>\n",
       "      <td>3409.514651</td>\n",
       "      <td>3764.864066</td>\n",
       "      <td>5296.034281</td>\n",
       "      <td>1</td>\n",
       "      <td>23</td>\n",
       "      <td>1235</td>\n",
       "      <td>1223</td>\n",
       "      <td>13:48:42</td>\n",
       "      <td>69.760833</td>\n",
       "    </tr>\n",
       "    <tr>\n",
       "      <th>7565</th>\n",
       "      <td>6601</td>\n",
       "      <td>1</td>\n",
       "      <td>5</td>\n",
       "      <td>5</td>\n",
       "      <td>5</td>\n",
       "      <td>5.0</td>\n",
       "      <td>35</td>\n",
       "      <td>35</td>\n",
       "      <td>807</td>\n",
       "      <td>35</td>\n",
       "      <td>...</td>\n",
       "      <td>0</td>\n",
       "      <td>6819.297009</td>\n",
       "      <td>7904.389921</td>\n",
       "      <td>14424.721167</td>\n",
       "      <td>1</td>\n",
       "      <td>23</td>\n",
       "      <td>1231</td>\n",
       "      <td>1219</td>\n",
       "      <td>19:55:39</td>\n",
       "      <td>68.773167</td>\n",
       "    </tr>\n",
       "    <tr>\n",
       "      <th>7571</th>\n",
       "      <td>12268</td>\n",
       "      <td>1</td>\n",
       "      <td>5</td>\n",
       "      <td>3</td>\n",
       "      <td>5</td>\n",
       "      <td>5.0</td>\n",
       "      <td>30</td>\n",
       "      <td>30</td>\n",
       "      <td>876</td>\n",
       "      <td>30</td>\n",
       "      <td>...</td>\n",
       "      <td>0</td>\n",
       "      <td>7768.287849</td>\n",
       "      <td>14061.752821</td>\n",
       "      <td>24397.141144</td>\n",
       "      <td>1</td>\n",
       "      <td>23</td>\n",
       "      <td>1238</td>\n",
       "      <td>1226</td>\n",
       "      <td>18:31:01</td>\n",
       "      <td>142.824667</td>\n",
       "    </tr>\n",
       "    <tr>\n",
       "      <th>7577</th>\n",
       "      <td>11876</td>\n",
       "      <td>5</td>\n",
       "      <td>5</td>\n",
       "      <td>2</td>\n",
       "      <td>5</td>\n",
       "      <td>5.0</td>\n",
       "      <td>40</td>\n",
       "      <td>40</td>\n",
       "      <td>748</td>\n",
       "      <td>40</td>\n",
       "      <td>...</td>\n",
       "      <td>0</td>\n",
       "      <td>4505.403774</td>\n",
       "      <td>5313.904360</td>\n",
       "      <td>8855.621616</td>\n",
       "      <td>2</td>\n",
       "      <td>23</td>\n",
       "      <td>1232</td>\n",
       "      <td>1220</td>\n",
       "      <td>12:54:39</td>\n",
       "      <td>160.788000</td>\n",
       "    </tr>\n",
       "    <tr>\n",
       "      <th>7584</th>\n",
       "      <td>6173</td>\n",
       "      <td>5</td>\n",
       "      <td>5</td>\n",
       "      <td>2</td>\n",
       "      <td>5</td>\n",
       "      <td>5.0</td>\n",
       "      <td>41</td>\n",
       "      <td>41</td>\n",
       "      <td>728</td>\n",
       "      <td>41</td>\n",
       "      <td>...</td>\n",
       "      <td>0</td>\n",
       "      <td>3409.494748</td>\n",
       "      <td>4048.286731</td>\n",
       "      <td>6746.469837</td>\n",
       "      <td>2</td>\n",
       "      <td>23</td>\n",
       "      <td>1231</td>\n",
       "      <td>1219</td>\n",
       "      <td>18:12:16</td>\n",
       "      <td>66.392000</td>\n",
       "    </tr>\n",
       "    <tr>\n",
       "      <th>7604</th>\n",
       "      <td>4149</td>\n",
       "      <td>1</td>\n",
       "      <td>5</td>\n",
       "      <td>2</td>\n",
       "      <td>5</td>\n",
       "      <td>5.0</td>\n",
       "      <td>33</td>\n",
       "      <td>33</td>\n",
       "      <td>821</td>\n",
       "      <td>33</td>\n",
       "      <td>...</td>\n",
       "      <td>0</td>\n",
       "      <td>3247.111544</td>\n",
       "      <td>3643.619115</td>\n",
       "      <td>6321.679165</td>\n",
       "      <td>2</td>\n",
       "      <td>76</td>\n",
       "      <td>1228</td>\n",
       "      <td>1216</td>\n",
       "      <td>19:33:15</td>\n",
       "      <td>72.272833</td>\n",
       "    </tr>\n",
       "    <tr>\n",
       "      <th>7607</th>\n",
       "      <td>9463</td>\n",
       "      <td>1</td>\n",
       "      <td>5</td>\n",
       "      <td>2</td>\n",
       "      <td>5</td>\n",
       "      <td>5.0</td>\n",
       "      <td>40</td>\n",
       "      <td>40</td>\n",
       "      <td>751</td>\n",
       "      <td>40</td>\n",
       "      <td>...</td>\n",
       "      <td>0</td>\n",
       "      <td>3247.208456</td>\n",
       "      <td>3729.665057</td>\n",
       "      <td>6215.486818</td>\n",
       "      <td>1</td>\n",
       "      <td>76</td>\n",
       "      <td>1234</td>\n",
       "      <td>1222</td>\n",
       "      <td>18:06:42</td>\n",
       "      <td>80.395333</td>\n",
       "    </tr>\n",
       "    <tr>\n",
       "      <th>7611</th>\n",
       "      <td>2563</td>\n",
       "      <td>5</td>\n",
       "      <td>5</td>\n",
       "      <td>4</td>\n",
       "      <td>5</td>\n",
       "      <td>5.0</td>\n",
       "      <td>15</td>\n",
       "      <td>15</td>\n",
       "      <td>1053</td>\n",
       "      <td>15</td>\n",
       "      <td>...</td>\n",
       "      <td>0</td>\n",
       "      <td>2273.045919</td>\n",
       "      <td>2473.620638</td>\n",
       "      <td>4350.851341</td>\n",
       "      <td>1</td>\n",
       "      <td>76</td>\n",
       "      <td>1234</td>\n",
       "      <td>1222</td>\n",
       "      <td>16:45:12</td>\n",
       "      <td>29.706500</td>\n",
       "    </tr>\n",
       "    <tr>\n",
       "      <th>7615</th>\n",
       "      <td>2432</td>\n",
       "      <td>5</td>\n",
       "      <td>5</td>\n",
       "      <td>5</td>\n",
       "      <td>5</td>\n",
       "      <td>5.0</td>\n",
       "      <td>15</td>\n",
       "      <td>15</td>\n",
       "      <td>1048</td>\n",
       "      <td>15</td>\n",
       "      <td>...</td>\n",
       "      <td>0</td>\n",
       "      <td>7576.875171</td>\n",
       "      <td>8452.387480</td>\n",
       "      <td>14866.904339</td>\n",
       "      <td>2</td>\n",
       "      <td>76</td>\n",
       "      <td>1234</td>\n",
       "      <td>1222</td>\n",
       "      <td>16:41:31</td>\n",
       "      <td>40.803333</td>\n",
       "    </tr>\n",
       "    <tr>\n",
       "      <th>7619</th>\n",
       "      <td>11585</td>\n",
       "      <td>1</td>\n",
       "      <td>5</td>\n",
       "      <td>4</td>\n",
       "      <td>5</td>\n",
       "      <td>5.0</td>\n",
       "      <td>34</td>\n",
       "      <td>34</td>\n",
       "      <td>814</td>\n",
       "      <td>34</td>\n",
       "      <td>...</td>\n",
       "      <td>0</td>\n",
       "      <td>1720.605492</td>\n",
       "      <td>2260.899193</td>\n",
       "      <td>3922.660100</td>\n",
       "      <td>1</td>\n",
       "      <td>76</td>\n",
       "      <td>1228</td>\n",
       "      <td>1216</td>\n",
       "      <td>15:59:28</td>\n",
       "      <td>113.677500</td>\n",
       "    </tr>\n",
       "    <tr>\n",
       "      <th>7622</th>\n",
       "      <td>8403</td>\n",
       "      <td>5</td>\n",
       "      <td>5</td>\n",
       "      <td>4</td>\n",
       "      <td>5</td>\n",
       "      <td>5.0</td>\n",
       "      <td>19</td>\n",
       "      <td>19</td>\n",
       "      <td>995</td>\n",
       "      <td>19</td>\n",
       "      <td>...</td>\n",
       "      <td>0</td>\n",
       "      <td>2408.847688</td>\n",
       "      <td>2563.254954</td>\n",
       "      <td>4508.509139</td>\n",
       "      <td>1</td>\n",
       "      <td>76</td>\n",
       "      <td>1228</td>\n",
       "      <td>1216</td>\n",
       "      <td>17:36:32</td>\n",
       "      <td>62.217000</td>\n",
       "    </tr>\n",
       "    <tr>\n",
       "      <th>7623</th>\n",
       "      <td>7574</td>\n",
       "      <td>5</td>\n",
       "      <td>5</td>\n",
       "      <td>4</td>\n",
       "      <td>5</td>\n",
       "      <td>5.0</td>\n",
       "      <td>19</td>\n",
       "      <td>19</td>\n",
       "      <td>997</td>\n",
       "      <td>19</td>\n",
       "      <td>...</td>\n",
       "      <td>0</td>\n",
       "      <td>2272.098197</td>\n",
       "      <td>2482.173894</td>\n",
       "      <td>4365.895661</td>\n",
       "      <td>2</td>\n",
       "      <td>76</td>\n",
       "      <td>1228</td>\n",
       "      <td>1216</td>\n",
       "      <td>16:09:34</td>\n",
       "      <td>96.809833</td>\n",
       "    </tr>\n",
       "    <tr>\n",
       "      <th>7625</th>\n",
       "      <td>6288</td>\n",
       "      <td>5</td>\n",
       "      <td>1</td>\n",
       "      <td>3</td>\n",
       "      <td>5</td>\n",
       "      <td>2.0</td>\n",
       "      <td>20</td>\n",
       "      <td>20</td>\n",
       "      <td>986</td>\n",
       "      <td>20</td>\n",
       "      <td>...</td>\n",
       "      <td>0</td>\n",
       "      <td>2272.098197</td>\n",
       "      <td>2585.825443</td>\n",
       "      <td>3637.480651</td>\n",
       "      <td>2</td>\n",
       "      <td>76</td>\n",
       "      <td>1227</td>\n",
       "      <td>1215</td>\n",
       "      <td>17:40:15</td>\n",
       "      <td>93.622333</td>\n",
       "    </tr>\n",
       "    <tr>\n",
       "      <th>7628</th>\n",
       "      <td>6365</td>\n",
       "      <td>5</td>\n",
       "      <td>5</td>\n",
       "      <td>3</td>\n",
       "      <td>5</td>\n",
       "      <td>2.0</td>\n",
       "      <td>17</td>\n",
       "      <td>17</td>\n",
       "      <td>1028</td>\n",
       "      <td>17</td>\n",
       "      <td>...</td>\n",
       "      <td>0</td>\n",
       "      <td>2272.899925</td>\n",
       "      <td>3456.977988</td>\n",
       "      <td>6080.478584</td>\n",
       "      <td>1</td>\n",
       "      <td>76</td>\n",
       "      <td>1235</td>\n",
       "      <td>1223</td>\n",
       "      <td>17:15:36</td>\n",
       "      <td>46.016667</td>\n",
       "    </tr>\n",
       "    <tr>\n",
       "      <th>7638</th>\n",
       "      <td>11018</td>\n",
       "      <td>1</td>\n",
       "      <td>5</td>\n",
       "      <td>2</td>\n",
       "      <td>5</td>\n",
       "      <td>3.0</td>\n",
       "      <td>34</td>\n",
       "      <td>34</td>\n",
       "      <td>811</td>\n",
       "      <td>34</td>\n",
       "      <td>...</td>\n",
       "      <td>0</td>\n",
       "      <td>3247.445399</td>\n",
       "      <td>3784.333145</td>\n",
       "      <td>6565.818007</td>\n",
       "      <td>2</td>\n",
       "      <td>76</td>\n",
       "      <td>1228</td>\n",
       "      <td>1216</td>\n",
       "      <td>15:57:38</td>\n",
       "      <td>82.907333</td>\n",
       "    </tr>\n",
       "    <tr>\n",
       "      <th>7639</th>\n",
       "      <td>6075</td>\n",
       "      <td>5</td>\n",
       "      <td>5</td>\n",
       "      <td>3</td>\n",
       "      <td>5</td>\n",
       "      <td>3.0</td>\n",
       "      <td>17</td>\n",
       "      <td>17</td>\n",
       "      <td>1014</td>\n",
       "      <td>17</td>\n",
       "      <td>...</td>\n",
       "      <td>0</td>\n",
       "      <td>2273.211779</td>\n",
       "      <td>2497.234491</td>\n",
       "      <td>4392.385746</td>\n",
       "      <td>2</td>\n",
       "      <td>76</td>\n",
       "      <td>1228</td>\n",
       "      <td>1216</td>\n",
       "      <td>18:23:53</td>\n",
       "      <td>54.044833</td>\n",
       "    </tr>\n",
       "  </tbody>\n",
       "</table>\n",
       "<p>1160 rows × 3087 columns</p>\n",
       "</div>"
      ],
      "text/plain": [
       "      caseid  rscrinf  rdormres  rostscrn  rscreenhisp  rscreenrace  age_a  \\\n",
       "45      7081        5         5         3            1          5.0     35   \n",
       "48      9242        5         5         2            1          5.0     29   \n",
       "53      8785        5         5         3            1          5.0     37   \n",
       "54      1511        1         5         5            5          5.0     42   \n",
       "74      8269        1         5         3            5          5.0     24   \n",
       "86      6145        5         5         4            5          5.0     27   \n",
       "87     10463        5         5         4            5          5.0     15   \n",
       "93      3800        1         5         3            1          5.0     19   \n",
       "98      2281        1         5         3            1          5.0     34   \n",
       "110     7430        1         5         4            5          5.0     18   \n",
       "111      545        1         5         3            5          5.0     19   \n",
       "119     3349        1         5         3            5          5.0     37   \n",
       "135      785        1         5         2            5          5.0     26   \n",
       "136     5321        5         5         3            5          5.0     20   \n",
       "158     6032        5         5         4            5          5.0     17   \n",
       "159     2885        5         5         3            5          5.0     16   \n",
       "160    11333        1         5         3            1          5.0     41   \n",
       "178     8181        1         5         3            1          5.0     36   \n",
       "197     2257        1         5         2            5          5.0     27   \n",
       "206     9227        1         5         5            5          5.0     40   \n",
       "213      116        5         5         2            5          5.0     38   \n",
       "232    10803        1         5         3            5          2.0     31   \n",
       "233      781        5         5         3            5          4.0     30   \n",
       "255    10113        1         5         3            5          5.0     40   \n",
       "262     1774        1         5         3            5          5.0     38   \n",
       "267    12215        1         5         4            5          5.0     39   \n",
       "271     4921        5         5         4            5          5.0     42   \n",
       "272    11874        1         5         4            5          5.0     40   \n",
       "280     3319        5         5         6            5          5.0     15   \n",
       "288     1424        1         5         1            5          5.0     25   \n",
       "...      ...      ...       ...       ...          ...          ...    ...   \n",
       "7447   12125        1         5         1            5          5.0     38   \n",
       "7450    5543        1         5         2            5          5.0     26   \n",
       "7462    5510        1         5         2            5          5.0     31   \n",
       "7463    1735        5         5         2            5          5.0     38   \n",
       "7465    6863        1         5         1            5          5.0     27   \n",
       "7474    9320        1         5         4            5          5.0     43   \n",
       "7480    4249        1         5         2            5          1.0     41   \n",
       "7498    7589        1         5         4            5          1.0     36   \n",
       "7500    3224        5         5         3            5          5.0     15   \n",
       "7501   11752        5         5         5            5          5.0     31   \n",
       "7513    3912        1         5         3            5          5.0     44   \n",
       "7514   11772        5         5         5            5          5.0     32   \n",
       "7515    3130        1         5         3            5          5.0     37   \n",
       "7518    8160        5         5         3            5          5.0     15   \n",
       "7540    4099        5         5         3            5          5.0     23   \n",
       "7565    6601        1         5         5            5          5.0     35   \n",
       "7571   12268        1         5         3            5          5.0     30   \n",
       "7577   11876        5         5         2            5          5.0     40   \n",
       "7584    6173        5         5         2            5          5.0     41   \n",
       "7604    4149        1         5         2            5          5.0     33   \n",
       "7607    9463        1         5         2            5          5.0     40   \n",
       "7611    2563        5         5         4            5          5.0     15   \n",
       "7615    2432        5         5         5            5          5.0     15   \n",
       "7619   11585        1         5         4            5          5.0     34   \n",
       "7622    8403        5         5         4            5          5.0     19   \n",
       "7623    7574        5         5         4            5          5.0     19   \n",
       "7625    6288        5         1         3            5          2.0     20   \n",
       "7628    6365        5         5         3            5          2.0     17   \n",
       "7638   11018        1         5         2            5          3.0     34   \n",
       "7639    6075        5         5         3            5          3.0     17   \n",
       "\n",
       "      age_r  cmbirth  agescrn     ...      pubassis_i       basewgt  \\\n",
       "45       35      805       35     ...               0   5837.228186   \n",
       "48       29      888       29     ...               0   3363.355288   \n",
       "53       37      793       37     ...               0   5798.840668   \n",
       "54       42      731       42     ...               0   5509.583267   \n",
       "74       24      939       24     ...               0   2668.984249   \n",
       "86       27      904       27     ...               0   3454.806924   \n",
       "87       15     1044       15     ...               0   5988.332002   \n",
       "93       19      998       19     ...               0   4522.337864   \n",
       "98       34      824       34     ...               0   2418.362494   \n",
       "110      18     1019       18     ...               0   3483.596982   \n",
       "111      19     1005       19     ...               0   2418.364847   \n",
       "119      37      788       37     ...               0   2418.364847   \n",
       "135      26      916       26     ...               0   2418.502854   \n",
       "136      20      986       20     ...               0   2418.502854   \n",
       "158      17     1017       17     ...               0   5901.853981   \n",
       "159      16     1031       16     ...               0   2677.426440   \n",
       "160      41      731       41     ...               0   2418.327197   \n",
       "178      36      798       36     ...               0   6142.930596   \n",
       "197      27      895       27     ...               0   3454.747293   \n",
       "206      40      744       40     ...               0   2418.442263   \n",
       "213      38      764       38     ...               0   3454.265652   \n",
       "232      31      853       31     ...               0   3195.715602   \n",
       "233      30      865       30     ...               0   2418.379375   \n",
       "255      40      745       40     ...               0   3195.610787   \n",
       "262      38      781       38     ...               0   4169.619611   \n",
       "267      39      761       39     ...               0   2418.235397   \n",
       "271      42      727       42     ...               0   2418.235397   \n",
       "272      40      748       40     ...               0  11019.773947   \n",
       "280      15     1051       15     ...               0   2763.769086   \n",
       "288      25      932       25     ...               0   2418.299315   \n",
       "...     ...      ...      ...     ...             ...           ...   \n",
       "7447     38      772       38     ...               0   2418.297347   \n",
       "7450     26      920       26     ...               0   3195.607209   \n",
       "7462     31      856       31     ...               0   5509.692068   \n",
       "7463     38      777       38     ...               0   5509.667601   \n",
       "7465     27      912       27     ...               0   4169.478185   \n",
       "7474     43      711       43     ...               0   3409.479524   \n",
       "7480     41      740       41     ...               0   3409.490745   \n",
       "7498     36      800       36     ...               0   4870.700211   \n",
       "7500     15     1044       15     ...               0   3224.367223   \n",
       "7501     31      855       31     ...               0   3195.578230   \n",
       "7513     44      694       44     ...               0   3195.580053   \n",
       "7514     32      850       32     ...               0   5509.620782   \n",
       "7515     37      783       37     ...               0   9827.837390   \n",
       "7518     15     1048       15     ...               0   2418.275417   \n",
       "7540     23      952       23     ...               0   3409.514651   \n",
       "7565     35      807       35     ...               0   6819.297009   \n",
       "7571     30      876       30     ...               0   7768.287849   \n",
       "7577     40      748       40     ...               0   4505.403774   \n",
       "7584     41      728       41     ...               0   3409.494748   \n",
       "7604     33      821       33     ...               0   3247.111544   \n",
       "7607     40      751       40     ...               0   3247.208456   \n",
       "7611     15     1053       15     ...               0   2273.045919   \n",
       "7615     15     1048       15     ...               0   7576.875171   \n",
       "7619     34      814       34     ...               0   1720.605492   \n",
       "7622     19      995       19     ...               0   2408.847688   \n",
       "7623     19      997       19     ...               0   2272.098197   \n",
       "7625     20      986       20     ...               0   2272.098197   \n",
       "7628     17     1028       17     ...               0   2272.899925   \n",
       "7638     34      811       34     ...               0   3247.445399   \n",
       "7639     17     1014       17     ...               0   2273.211779   \n",
       "\n",
       "      adj_mod_basewgt      finalwgt  secu_r  sest  cmintvw  cmlstyr  \\\n",
       "45        6773.516282   7326.912562       2    83     1233     1221   \n",
       "48        5310.258519   5758.975364       2    83     1237     1225   \n",
       "53        6718.111775   7266.981507       2    83     1238     1226   \n",
       "54        6305.199061  10507.614236       2    83     1238     1226   \n",
       "74        3259.635980   4585.329933       1    55     1231     1219   \n",
       "86        5325.500205   8956.958795       2    55     1235     1223   \n",
       "87        6651.174387  11698.750629       2    55     1232     1220   \n",
       "93        5349.559967   6248.820998       1    55     1234     1222   \n",
       "98        4000.143595   5076.582236       1    55     1237     1225   \n",
       "110       6493.461952  11421.350227       2    55     1236     1224   \n",
       "111       2813.155274   4948.058811       2    55     1236     1224   \n",
       "119       4377.598947   7988.680318       2    55     1237     1225   \n",
       "135       2805.002446   4717.733613       1    55     1233     1221   \n",
       "136       2904.336489   4085.530139       1    55     1232     1220   \n",
       "158       7484.561863  13164.595861       1     7     1232     1220   \n",
       "159       3018.783525   5309.738342       1     7     1232     1220   \n",
       "160       2960.540333   3739.162440       2     7     1233     1221   \n",
       "178       6797.797255   7353.177291       1     7     1236     1224   \n",
       "197       4037.582954   6790.810770       2     7     1231     1219   \n",
       "206       2762.299504   4603.372123       1     7     1233     1221   \n",
       "213       3989.528508   7280.490573       2     7     1231     1219   \n",
       "232       3657.543699   6345.838317       2    81     1235     1223   \n",
       "233       2747.740868   3572.337902       2    81     1236     1224   \n",
       "255       3593.860715   5989.168881       2    81     1237     1225   \n",
       "262       6692.722672  12213.549605       2    81     1238     1226   \n",
       "267       2931.520066   5349.730969       2    81     1237     1225   \n",
       "271       2932.110782   4886.362618       2    81     1237     1225   \n",
       "272      21664.265372  36103.498243       1    81     1238     1226   \n",
       "280       3065.488233   5391.887252       2    79     1235     1223   \n",
       "288       3164.521493   5322.408700       1    79     1235     1223   \n",
       "...               ...           ...     ...   ...      ...      ...   \n",
       "7447      2703.826471   4934.212926       1    16     1233     1221   \n",
       "7450      3697.752413   6219.249784       1    16     1233     1221   \n",
       "7462      6465.528182  11217.691396       2    16     1238     1226   \n",
       "7463      9063.592294  16540.149578       1    16     1238     1226   \n",
       "7465      5431.469037   9135.187774       1    16     1238     1226   \n",
       "7474      3912.093011   6519.503003       2     1     1228     1216   \n",
       "7480      3845.771561   6408.978307       1     1     1234     1222   \n",
       "7498      5501.803080  10040.240441       1     1     1233     1221   \n",
       "7500      3620.796555   6368.619061       2    58     1233     1221   \n",
       "7501      3384.945559   5872.880545       2    58     1234     1222   \n",
       "7513      3443.701904   5738.929224       2    58     1233     1221   \n",
       "7514      6607.626599  11464.232149       2    58     1238     1226   \n",
       "7515     10821.218366  19747.641396       1    58     1232     1220   \n",
       "7518      3015.672948   5304.267149       2    58     1237     1225   \n",
       "7540      3764.864066   5296.034281       1    23     1235     1223   \n",
       "7565      7904.389921  14424.721167       1    23     1231     1219   \n",
       "7571     14061.752821  24397.141144       1    23     1238     1226   \n",
       "7577      5313.904360   8855.621616       2    23     1232     1220   \n",
       "7584      4048.286731   6746.469837       2    23     1231     1219   \n",
       "7604      3643.619115   6321.679165       2    76     1228     1216   \n",
       "7607      3729.665057   6215.486818       1    76     1234     1222   \n",
       "7611      2473.620638   4350.851341       1    76     1234     1222   \n",
       "7615      8452.387480  14866.904339       2    76     1234     1222   \n",
       "7619      2260.899193   3922.660100       1    76     1228     1216   \n",
       "7622      2563.254954   4508.509139       1    76     1228     1216   \n",
       "7623      2482.173894   4365.895661       2    76     1228     1216   \n",
       "7625      2585.825443   3637.480651       2    76     1227     1215   \n",
       "7628      3456.977988   6080.478584       1    76     1235     1223   \n",
       "7638      3784.333145   6565.818007       2    76     1228     1216   \n",
       "7639      2497.234491   4392.385746       2    76     1228     1216   \n",
       "\n",
       "      screentime   intvlngth  \n",
       "45      11:40:08  103.980333  \n",
       "48      12:02:18   69.112833  \n",
       "53      18:20:56   68.210167  \n",
       "54      16:35:27   66.828833  \n",
       "74      15:07:17   87.511833  \n",
       "86      15:43:38   73.773167  \n",
       "87      19:29:29   40.698833  \n",
       "93      16:31:05   48.481000  \n",
       "98      14:51:27  103.194000  \n",
       "110     17:11:44   46.517333  \n",
       "111     16:15:26   95.646333  \n",
       "119     13:01:07   76.961667  \n",
       "135     20:51:27   80.075000  \n",
       "136     19:27:03   73.284333  \n",
       "158     17:49:47   44.481333  \n",
       "159     19:55:17   77.266500  \n",
       "160     15:46:41   59.639492  \n",
       "178     11:58:52   52.456500  \n",
       "197     15:21:24   90.543833  \n",
       "206     19:20:06   71.954333  \n",
       "213     19:18:03   74.859000  \n",
       "232     17:04:55  111.759667  \n",
       "233     15:08:41   82.661167  \n",
       "255     09:11:18   60.138833  \n",
       "262     17:10:59   51.369000  \n",
       "267     11:36:48   61.776500  \n",
       "271     16:29:53   76.587167  \n",
       "272     10:39:14  107.295167  \n",
       "280     15:14:51   33.338833  \n",
       "288     18:14:26   41.480667  \n",
       "...          ...         ...  \n",
       "7447    20:36:03  103.920833  \n",
       "7450    16:28:46   87.248333  \n",
       "7462    23:02:48  124.715667  \n",
       "7463    22:42:45   57.002500  \n",
       "7465    23:25:12  112.317167  \n",
       "7474    16:02:38   94.228333  \n",
       "7480    13:27:58  121.108000  \n",
       "7498    12:21:25  103.878000  \n",
       "7500    18:42:03   45.884833  \n",
       "7501    18:47:46   97.988000  \n",
       "7513    17:24:23   68.074667  \n",
       "7514    15:05:58  106.330333  \n",
       "7515    14:45:36   80.299167  \n",
       "7518    17:38:30   31.467667  \n",
       "7540    13:48:42   69.760833  \n",
       "7565    19:55:39   68.773167  \n",
       "7571    18:31:01  142.824667  \n",
       "7577    12:54:39  160.788000  \n",
       "7584    18:12:16   66.392000  \n",
       "7604    19:33:15   72.272833  \n",
       "7607    18:06:42   80.395333  \n",
       "7611    16:45:12   29.706500  \n",
       "7615    16:41:31   40.803333  \n",
       "7619    15:59:28  113.677500  \n",
       "7622    17:36:32   62.217000  \n",
       "7623    16:09:34   96.809833  \n",
       "7625    17:40:15   93.622333  \n",
       "7628    17:15:36   46.016667  \n",
       "7638    15:57:38   82.907333  \n",
       "7639    18:23:53   54.044833  \n",
       "\n",
       "[1160 rows x 3087 columns]"
      ]
     },
     "execution_count": 57,
     "metadata": {},
     "output_type": "execute_result"
    }
   ],
   "source": [
    "rich"
   ]
  },
  {
   "cell_type": "code",
   "execution_count": 62,
   "metadata": {},
   "outputs": [
    {
     "name": "stdout",
     "output_type": "stream",
     "text": [
      "40\n"
     ]
    },
    {
     "ename": "AttributeError",
     "evalue": "'dict' object has no attribute 'value'",
     "output_type": "error",
     "traceback": [
      "\u001b[1;31m---------------------------------------------------------------------------\u001b[0m",
      "\u001b[1;31mAttributeError\u001b[0m                            Traceback (most recent call last)",
      "\u001b[1;32m<ipython-input-62-80c68971e3f5>\u001b[0m in \u001b[0;36m<module>\u001b[1;34m()\u001b[0m\n\u001b[0;32m      9\u001b[0m     \u001b[0mprint\u001b[0m\u001b[1;33m(\u001b[0m\u001b[0msorted\u001b[0m\u001b[1;33m(\u001b[0m\u001b[0mmode_holder\u001b[0m\u001b[1;33m.\u001b[0m\u001b[0mvalue\u001b[0m\u001b[1;33m,\u001b[0m \u001b[0mkey\u001b[0m\u001b[1;33m=\u001b[0m\u001b[0mmode_holder\u001b[0m\u001b[1;33m.\u001b[0m\u001b[0mget\u001b[0m\u001b[1;33m)\u001b[0m\u001b[1;33m)\u001b[0m\u001b[1;33m\u001b[0m\u001b[0m\n\u001b[0;32m     10\u001b[0m \u001b[1;33m\u001b[0m\u001b[0m\n\u001b[1;32m---> 11\u001b[1;33m \u001b[0mMode\u001b[0m\u001b[1;33m(\u001b[0m\u001b[0mrich\u001b[0m\u001b[1;33m.\u001b[0m\u001b[0mage_a\u001b[0m\u001b[1;33m)\u001b[0m\u001b[1;33m\u001b[0m\u001b[0m\n\u001b[0m",
      "\u001b[1;32m<ipython-input-62-80c68971e3f5>\u001b[0m in \u001b[0;36mMode\u001b[1;34m(group1)\u001b[0m\n\u001b[0;32m      7\u001b[0m             \u001b[0mmode_holder\u001b[0m\u001b[1;33m[\u001b[0m\u001b[0mx\u001b[0m\u001b[1;33m]\u001b[0m\u001b[1;33m=\u001b[0m\u001b[1;36m1\u001b[0m\u001b[1;33m\u001b[0m\u001b[0m\n\u001b[0;32m      8\u001b[0m     \u001b[0mprint\u001b[0m\u001b[1;33m(\u001b[0m\u001b[0mmax\u001b[0m\u001b[1;33m(\u001b[0m\u001b[0mmode_holder\u001b[0m\u001b[1;33m,\u001b[0m \u001b[0mkey\u001b[0m\u001b[1;33m=\u001b[0m\u001b[0mmode_holder\u001b[0m\u001b[1;33m.\u001b[0m\u001b[0mget\u001b[0m\u001b[1;33m)\u001b[0m\u001b[1;33m)\u001b[0m\u001b[1;33m\u001b[0m\u001b[0m\n\u001b[1;32m----> 9\u001b[1;33m     \u001b[0mprint\u001b[0m\u001b[1;33m(\u001b[0m\u001b[0msorted\u001b[0m\u001b[1;33m(\u001b[0m\u001b[0mmode_holder\u001b[0m\u001b[1;33m.\u001b[0m\u001b[0mvalue\u001b[0m\u001b[1;33m,\u001b[0m \u001b[0mkey\u001b[0m\u001b[1;33m=\u001b[0m\u001b[0mmode_holder\u001b[0m\u001b[1;33m.\u001b[0m\u001b[0mget\u001b[0m\u001b[1;33m)\u001b[0m\u001b[1;33m)\u001b[0m\u001b[1;33m\u001b[0m\u001b[0m\n\u001b[0m\u001b[0;32m     10\u001b[0m \u001b[1;33m\u001b[0m\u001b[0m\n\u001b[0;32m     11\u001b[0m \u001b[0mMode\u001b[0m\u001b[1;33m(\u001b[0m\u001b[0mrich\u001b[0m\u001b[1;33m.\u001b[0m\u001b[0mage_a\u001b[0m\u001b[1;33m)\u001b[0m\u001b[1;33m\u001b[0m\u001b[0m\n",
      "\u001b[1;31mAttributeError\u001b[0m: 'dict' object has no attribute 'value'"
     ]
    }
   ],
   "source": [
    "def Mode(group1):\n",
    "    mode_holder={}\n",
    "    for x in group1:\n",
    "        if x in mode_holder:\n",
    "            mode_holder[x]=mode_holder[x]+1\n",
    "        else:\n",
    "            mode_holder[x]=1\n",
    "    print(max(mode_holder, key=mode_holder.get))\n",
    "    print(sorted(mode_holder.value, key=mode_holder.get))\n",
    "\n",
    "Mode(rich.age_a)"
   ]
  },
  {
   "cell_type": "code",
   "execution_count": null,
   "metadata": {},
   "outputs": [],
   "source": []
  }
 ],
 "metadata": {
  "kernelspec": {
   "display_name": "Python 3",
   "language": "python",
   "name": "python3"
  },
  "language_info": {
   "codemirror_mode": {
    "name": "ipython",
    "version": 3
   },
   "file_extension": ".py",
   "mimetype": "text/x-python",
   "name": "python",
   "nbconvert_exporter": "python",
   "pygments_lexer": "ipython3",
   "version": "3.6.4"
  }
 },
 "nbformat": 4,
 "nbformat_minor": 1
}
